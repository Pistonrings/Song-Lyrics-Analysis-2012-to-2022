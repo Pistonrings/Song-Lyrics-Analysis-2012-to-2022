{
 "cells": [
  {
   "cell_type": "code",
   "execution_count": 7,
   "metadata": {},
   "outputs": [],
   "source": [
    "import pandas as pd"
   ]
  },
  {
   "cell_type": "code",
   "execution_count": 8,
   "metadata": {},
   "outputs": [
    {
     "name": "stdout",
     "output_type": "stream",
     "text": [
      "<class 'pandas.core.frame.DataFrame'>\n",
      "RangeIndex: 1100 entries, 0 to 1099\n",
      "Data columns (total 7 columns):\n",
      " #   Column        Non-Null Count  Dtype \n",
      "---  ------        --------------  ----- \n",
      " 0   Top100Year    1100 non-null   int64 \n",
      " 1   SongTitle     1100 non-null   object\n",
      " 2   Artist        1100 non-null   object\n",
      " 3   LyricsStatus  1100 non-null   bool  \n",
      " 4   Lyrics        962 non-null    object\n",
      " 5   ReleaseYear   1100 non-null   object\n",
      " 6   Genre         1100 non-null   object\n",
      "dtypes: bool(1), int64(1), object(5)\n",
      "memory usage: 52.8+ KB\n"
     ]
    },
    {
     "data": {
      "text/plain": [
       "(None,\n",
       "    Top100Year                     SongTitle                          Artist  \\\n",
       " 0        2012                 Call Me Maybe                Carly Rae Jepsen   \n",
       " 1        2012                      Payphone  Maroon 5 Featuring Wiz Khalifa   \n",
       " 2        2012  Somebody That I Used To Know          Gotye Featuring Kimbra   \n",
       " 3        2012                    Wide Awake                      Katy Perry   \n",
       " 4        2012           Where Have You Been                         Rihanna   \n",
       " \n",
       "    LyricsStatus                                             Lyrics  \\\n",
       " 0          True  I threw a wish in the well\\nDon't ask me, I'll...   \n",
       " 1          True  I'm at a payphone trying to call home\\nAll of ...   \n",
       " 2          True  Now and then I think of when we were together\\...   \n",
       " 3          True  I'm wide awake\\nI'm wide awake\\nI'm wide awake...   \n",
       " 4          True  I've been everywhere, man\\nLooking for someone...   \n",
       " \n",
       "   ReleaseYear                                            Genre  \n",
       " 0        2012                                    R&B/Soul, Pop  \n",
       " 1        2012                                    R&B/Soul, Pop  \n",
       " 2        2011                                    R&B/Soul, Pop  \n",
       " 3        2012                            R&B/Soul, Pop, UK R&B  \n",
       " 4        2011  Dance-pop, R&B/Soul, Electro house, Pop, UK R&B  )"
      ]
     },
     "execution_count": 8,
     "metadata": {},
     "output_type": "execute_result"
    }
   ],
   "source": [
    "# Load the dataset\n",
    "file_path = \"billboard_2012_to_2022_top_100_song_lyrics.csv\"\n",
    "df = pd.read_csv(file_path)\n",
    "\n",
    "# Display basic information about the dataset\n",
    "df.info(), df.head()"
   ]
  },
  {
   "cell_type": "code",
   "execution_count": 9,
   "metadata": {},
   "outputs": [
    {
     "data": {
      "text/plain": [
       "Top100Year        0\n",
       "SongTitle         0\n",
       "Artist            0\n",
       "LyricsStatus      0\n",
       "Lyrics          138\n",
       "ReleaseYear       1\n",
       "Genre             0\n",
       "dtype: int64"
      ]
     },
     "execution_count": 9,
     "metadata": {},
     "output_type": "execute_result"
    }
   ],
   "source": [
    "# Convert ReleaseYear to numeric (some may contain non-numeric values)\n",
    "df[\"ReleaseYear\"] = pd.to_numeric(df[\"ReleaseYear\"], errors=\"coerce\")\n",
    "\n",
    "# Check for missing values after conversion\n",
    "df.isnull().sum()"
   ]
  },
  {
   "cell_type": "code",
   "execution_count": 10,
   "metadata": {},
   "outputs": [
    {
     "data": {
      "text/plain": [
       "array(['R&B/Soul', 'Dance-pop', 'Alternative/Indie', 'Eurodance',\n",
       "       'Electronic dance music', 'Country music', 'Pop rock', 'Rap rock',\n",
       "       'Electropop', 'Dubstep'], dtype=object)"
      ]
     },
     "execution_count": 10,
     "metadata": {},
     "output_type": "execute_result"
    }
   ],
   "source": [
    "# Drop rows with missing ReleaseYear\n",
    "df = df.dropna(subset=[\"ReleaseYear\"])\n",
    "\n",
    "# Extract primary genre (considering only the first genre in case of multiple genres)\n",
    "df[\"PrimaryGenre\"] = df[\"Genre\"].apply(lambda x: x.split(\",\")[0] if isinstance(x, str) else x)\n",
    "\n",
    "# Display the unique genres after processing\n",
    "df[\"PrimaryGenre\"].unique()[:10]  # Show first 10 unique genres for review\n"
   ]
  },
  {
   "cell_type": "code",
   "execution_count": 11,
   "metadata": {},
   "outputs": [],
   "source": [
    "import matplotlib.pyplot as plt\n",
    "import seaborn as sns"
   ]
  },
  {
   "cell_type": "code",
   "execution_count": 12,
   "metadata": {},
   "outputs": [
    {
     "name": "stderr",
     "output_type": "stream",
     "text": [
      "C:\\Users\\HOME\\AppData\\Local\\Temp\\ipykernel_15048\\3131935381.py:6: FutureWarning: \n",
      "\n",
      "Passing `palette` without assigning `hue` is deprecated and will be removed in v0.14.0. Assign the `x` variable to `hue` and set `legend=False` for the same effect.\n",
      "\n",
      "  sns.countplot(x=df[\"Top100Year\"], palette=\"Purples\")\n"
     ]
    },
    {
     "data": {
      "image/png": "[encoded data removed]",
      "text/plain": [
       "<Figure size 1200x600 with 1 Axes>"
      ]
     },
     "metadata": {},
     "output_type": "display_data"
    }
   ],
   "source": [
    "# Set style\n",
    "sns.set_style(\"whitegrid\")\n",
    "\n",
    "# Count the number of songs per year\n",
    "plt.figure(figsize=(12, 6))\n",
    "sns.countplot(x=df[\"Top100Year\"], palette=\"Purples\")\n",
    "\n",
    "plt.title(\"Number of Songs in Billboard Top 100 (2012-2022)\")\n",
    "plt.xlabel(\"Year\")\n",
    "plt.ylabel(\"Count\")\n",
    "plt.xticks(rotation=45)\n",
    "plt.show()\n"
   ]
  },
  {
   "cell_type": "code",
   "execution_count": 13,
   "metadata": {},
   "outputs": [],
   "source": [
    "from textblob import TextBlob\n",
    "\n"
   ]
  },
  {
   "cell_type": "code",
   "execution_count": 14,
   "metadata": {},
   "outputs": [
    {
     "data": {
      "text/plain": [
       "count    962.000000\n",
       "mean       0.078889\n",
       "std        0.165357\n",
       "min       -0.700000\n",
       "25%       -0.024129\n",
       "50%        0.069799\n",
       "75%        0.171922\n",
       "max        0.731429\n",
       "Name: Sentiment, dtype: float64"
      ]
     },
     "execution_count": 14,
     "metadata": {},
     "output_type": "execute_result"
    }
   ],
   "source": [
    "# Function to compute sentiment polarity\n",
    "def get_sentiment(text):\n",
    "    if isinstance(text, str):\n",
    "        return TextBlob(text).sentiment.polarity  # Polarity ranges from -1 (negative) to 1 (positive)\n",
    "    return None\n",
    "\n",
    "# Apply sentiment analysis on Lyrics\n",
    "df[\"Sentiment\"] = df[\"Lyrics\"].apply(get_sentiment)\n",
    "\n",
    "# Display sentiment statistics\n",
    "df[\"Sentiment\"].describe()"
   ]
  },
  {
   "cell_type": "code",
   "execution_count": 15,
   "metadata": {},
   "outputs": [
    {
     "name": "stderr",
     "output_type": "stream",
     "text": [
      "C:\\Users\\HOME\\AppData\\Local\\Temp\\ipykernel_15048\\4216301792.py:3: FutureWarning: \n",
      "\n",
      "Passing `palette` without assigning `hue` is deprecated and will be removed in v0.14.0. Assign the `x` variable to `hue` and set `legend=False` for the same effect.\n",
      "\n",
      "  sns.boxplot(x=df[\"Top100Year\"], y=df[\"Sentiment\"], palette=\"Purples\")\n"
     ]
    },
    {
     "data": {
      "image/png": "[encoded data removed]",
      "text/plain": [
       "<Figure size 1200x600 with 1 Axes>"
      ]
     },
     "metadata": {},
     "output_type": "display_data"
    }
   ],
   "source": [
    "# Plot sentiment scores over time\n",
    "plt.figure(figsize=(12, 6))\n",
    "sns.boxplot(x=df[\"Top100Year\"], y=df[\"Sentiment\"], palette=\"Purples\")\n",
    "\n",
    "plt.title(\"Sentiment Analysis of Songs (2012-2022)\")\n",
    "plt.xlabel(\"Year\")\n",
    "plt.ylabel(\"Sentiment Score\")\n",
    "plt.xticks(rotation=45)\n",
    "plt.show()\n",
    "\n"
   ]
  },
  {
   "cell_type": "code",
   "execution_count": 16,
   "metadata": {},
   "outputs": [
    {
     "data": {
      "image/png": "[encoded data removed]",
      "text/plain": [
       "<Figure size 1200x600 with 1 Axes>"
      ]
     },
     "metadata": {},
     "output_type": "display_data"
    },
    {
     "name": "stdout",
     "output_type": "stream",
     "text": [
      "\n",
      "    Sentiment Analysis of Songs (2012-2022):\n",
      "    1. Overall Sentiment Trend: Negative\n",
      "       - Sentiment has decreased over time.\n",
      "    2. Sentiment Score Change: -0.0696\n",
      "       - Indicates a shift towards more negative lyrics.\n",
      "    3. Sentiment Variance Trend: Decreased\n",
      "       - Songs have become less diverse in emotional tone.\n",
      "    4. Variance Change: -0.0099\n",
      "       - Suggests lyrics are becoming more standardized.\n",
      "    \n"
     ]
    }
   ],
   "source": [
    "\n",
    "\n",
    "def analyze_sentiment_trend(df):\n",
    "    \"\"\"\n",
    "    Analyzes sentiment trends over time in a given dataset.\n",
    "    Assumes dataset contains 'Top100Year' and 'Lyrics' columns.\n",
    "    \"\"\"\n",
    "    # Compute sentiment scores if not present\n",
    "    if \"Sentiment\" not in df.columns:\n",
    "        df[\"Sentiment\"] = df[\"Lyrics\"].dropna().apply(lambda x: TextBlob(x).sentiment.polarity)\n",
    "    \n",
    "    # Compute average sentiment per year\n",
    "    sentiment_trend = df.groupby(\"Top100Year\")[\"Sentiment\"].mean()\n",
    "    sentiment_variance = df.groupby(\"Top100Year\")[\"Sentiment\"].var()\n",
    "    \n",
    "    # Plot sentiment trend\n",
    "    plt.figure(figsize=(12, 6))\n",
    "    sns.lineplot(x=sentiment_trend.index, y=sentiment_trend.values, marker=\"o\", color=\"purple\")\n",
    "    plt.title(\"Average Sentiment of Songs (2012-2022)\")\n",
    "    plt.xlabel(\"Year\")\n",
    "    plt.ylabel(\"Average Sentiment Score\")\n",
    "    plt.grid(True)\n",
    "    plt.show()\n",
    "    \n",
    "    # Analyze trends\n",
    "    sentiment_trend_change = sentiment_trend.iloc[-1] - sentiment_trend.iloc[0]\n",
    "    variance_trend_change = sentiment_variance.iloc[-1] - sentiment_variance.iloc[0]\n",
    "    \n",
    "    # Generate theoretical insights\n",
    "    insights = \"\"\"\n",
    "    Sentiment Analysis of Songs (2012-2022):\n",
    "    1. Overall Sentiment Trend: {}\n",
    "       - Sentiment has {} over time.\n",
    "    2. Sentiment Score Change: {}\n",
    "       - Indicates a shift towards more {} lyrics.\n",
    "    3. Sentiment Variance Trend: {}\n",
    "       - Songs have become {} diverse in emotional tone.\n",
    "    4. Variance Change: {}\n",
    "       - Suggests lyrics are becoming {}.\n",
    "    \"\"\".format(\n",
    "        \"Positive\" if sentiment_trend_change > 0 else \"Negative\",\n",
    "        \"increased\" if sentiment_trend_change > 0 else \"decreased\",\n",
    "        round(sentiment_trend_change, 4),\n",
    "        \"positive\" if sentiment_trend_change > 0 else \"negative\",\n",
    "        \"Increased\" if variance_trend_change > 0 else \"Decreased\",\n",
    "        \"more\" if variance_trend_change > 0 else \"less\",\n",
    "        round(variance_trend_change, 4),\n",
    "        \"more emotionally extreme\" if variance_trend_change > 0 else \"more standardized\"\n",
    "    )\n",
    "    \n",
    "    return insights\n",
    "\n",
    "# Example usage\n",
    "insights = analyze_sentiment_trend(df)\n",
    "print(insights)\n"
   ]
  },
  {
   "cell_type": "code",
   "execution_count": 17,
   "metadata": {},
   "outputs": [
    {
     "name": "stderr",
     "output_type": "stream",
     "text": [
      "C:\\Users\\HOME\\AppData\\Local\\Temp\\ipykernel_15048\\2001368355.py:6: FutureWarning: \n",
      "\n",
      "Passing `palette` without assigning `hue` is deprecated and will be removed in v0.14.0. Assign the `x` variable to `hue` and set `legend=False` for the same effect.\n",
      "\n",
      "  sns.barplot(x=genre_counts.index, y=genre_counts.values, palette=\"Purples\")\n"
     ]
    },
    {
     "data": {
      "image/png": "[encoded data removed]",
      "text/plain": [
       "<Figure size 1200x600 with 1 Axes>"
      ]
     },
     "metadata": {},
     "output_type": "display_data"
    }
   ],
   "source": [
    "# Count of songs per genre\n",
    "genre_counts = df[\"PrimaryGenre\"].value_counts().head(10)  # Top 10 genres\n",
    "\n",
    "# Plot genre popularity\n",
    "plt.figure(figsize=(12, 6))\n",
    "sns.barplot(x=genre_counts.index, y=genre_counts.values, palette=\"Purples\")\n",
    "\n",
    "plt.title(\"Top 10 Most Popular Genres (2012-2022)\")\n",
    "plt.xlabel(\"Genre\")\n",
    "plt.ylabel(\"Number of Songs in Top 100\")\n",
    "plt.xticks(rotation=45)\n",
    "plt.show()\n"
   ]
  },
  {
   "cell_type": "code",
   "execution_count": 18,
   "metadata": {},
   "outputs": [],
   "source": [
    "import plotly.express as px"
   ]
  },
  {
   "cell_type": "code",
   "execution_count": 19,
   "metadata": {},
   "outputs": [
    {
     "data": {
      "application/vnd.plotly.v1+json": {
       "config": {
        "plotlyServerURL": "https://plot.ly"
       },
       "data": [
        {
         "branchvalues": "total",
         "customdata": {
          "bdata": "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",
          "dtype": "f8",
          "shape": "220, 1"
         },
         "domain": {
          "x": [
           0,
           1
          ],
          "y": [
           0,
           1
          ]
         },
         "hovertemplate": "labels=%{label}<br>Count=%{value}<br>parent=%{parent}<br>id=%{id}<br>Top100Year=%{color}<extra></extra>",
         "ids": [
          "Alternative rock/2013",
          "Alternative rock/2014",
          "Alternative rock/2015",
          "Alternative rock/2016",
          "Alternative rock/2018",
          "Alternative rock/2019",
          "Alternative/Indie/2012",
          "Alternative/Indie/2013",
          "Alternative/Indie/2014",
          "Alternative/Indie/2015",
          "Alternative/Indie/2016",
          "Alternative/Indie/2017",
          "Alternative/Indie/2018",
          "Alternative/Indie/2019",
          "Alternative/Indie/2020",
          "Alternative/Indie/2021",
          "Alternative/Indie/2022",
          "Bachata/2022",
          "Ballad/2018",
          "Bounce music/2018",
          "Bubblegum music/2019",
          "Contemporary R&B/2014",
          "Contemporary R&B/2016",
          "Contemporary R&B/2017",
          "Contemporary R&B/2018",
          "Contemporary R&B/2020",
          "Country Trap/2020",
          "Country music/2012",
          "Country music/2013",
          "Country music/2014",
          "Country music/2015",
          "Country music/2016",
          "Country music/2017",
          "Country music/2018",
          "Country music/2019",
          "Country music/2020",
          "Country music/2021",
          "Country music/2022",
          "Country pop/2017",
          "Country pop/2018",
          "Country rap/2021",
          "Dance-pop/2012",
          "Dance-pop/2015",
          "Dance-pop/2018",
          "Dance-pop/2021",
          "Dance/Electronic/2014",
          "Dance/Electronic/2017",
          "Dance/Electronic/2018",
          "Dance/Electronic/2019",
          "Dance/Electronic/2020",
          "Dance/Electronic/2021",
          "Dancehall/2016",
          "Deep house/2014",
          "Disco/2013",
          "Disco/2014",
          "Disco/2015",
          "Disco/2020",
          "Drill music/2020",
          "Dubstep/2012",
          "Electro/2019",
          "Electro/2021",
          "Electronic dance music/2012",
          "Electronic dance music/2013",
          "Electronic dance music/2014",
          "Electronic dance music/2015",
          "Electronic dance music/2016",
          "Electronic dance music/2018",
          "Electropop/2012",
          "Electropop/2015",
          "Electropop/2017",
          "Emo rap/2017",
          "Emo rap/2018",
          "Eurodance/2012",
          "Folk music/2015",
          "Funk/2017",
          "Funk/2022",
          "Hip hop music/2017",
          "Hip hop music/2018",
          "Hip hop music/2019",
          "Hip hop music/2020",
          "Hip hop music/2021",
          "Hip hop music/2022",
          "Hip house/2014",
          "Hip-Hop/Rap/2014",
          "Hip-Hop/Rap/2016",
          "Hip-Hop/Rap/2020",
          "Hip-Hop/Rap/2021",
          "Hip-Hop/Rap/2022",
          "House music/2015",
          "House music/2022",
          "Indie pop/2018",
          "Korea Dance/Electronic/2013",
          "Korea Dance/Electronic/2022",
          "Latin pop/2019",
          "Latin pop/2022",
          "Latin trap/2018",
          "Lo-fi/2017",
          "Lo-fi/2018",
          "Metal/2016",
          "Metal/2018",
          "Moombahton/2016",
          "New wave/2022",
          "Pop/2012",
          "Pop/2013",
          "Pop/2016",
          "Pop/2018",
          "Pop/2022",
          "Pop music/2013",
          "Pop music/2014",
          "Pop music/2015",
          "Pop music/2016",
          "Pop music/2017",
          "Pop music/2018",
          "Pop music/2019",
          "Pop music/2020",
          "Pop music/2022",
          "Pop rap/2016",
          "Pop rap/2018",
          "Pop rock/2012",
          "Pop rock/2013",
          "Pop rock/2014",
          "Pop rock/2015",
          "Pop rock/2017",
          "Pop rock/2018",
          "Pop rock/2020",
          "Pop rock/2021",
          "Pop rock/2022",
          "Pop-punk/2021",
          "Power pop/2013",
          "R&B/Soul/2012",
          "R&B/Soul/2013",
          "R&B/Soul/2014",
          "R&B/Soul/2015",
          "R&B/Soul/2016",
          "R&B/Soul/2017",
          "R&B/Soul/2018",
          "R&B/Soul/2019",
          "R&B/Soul/2020",
          "R&B/Soul/2021",
          "R&B/Soul/2022",
          "Rap rock/2012",
          "Reggae/2022",
          "Reggae en Español/2018",
          "Reggae fusion/2019",
          "Reggae fusion/2020",
          "Reggaeton/2017",
          "Reggaeton/2022",
          "Rhythm and blues/2016",
          "Rhythm and blues/2018",
          "Rhythm and blues/2019",
          "Rhythm and blues/2021",
          "Rock/2013",
          "Rock/2016",
          "Rock/2019",
          "Soft rock/2014",
          "Soul music/2014",
          "Soul music/2015",
          "Synth-pop/2016",
          "Synth-pop/2017",
          "Trap music/2015",
          "Trap music/2016",
          "Trap music/2017",
          "Trap music/2018",
          "Tropical house/2016",
          "Alternative rock",
          "Alternative/Indie",
          "Bachata",
          "Ballad",
          "Bounce music",
          "Bubblegum music",
          "Contemporary R&B",
          "Country Trap",
          "Country music",
          "Country pop",
          "Country rap",
          "Dance-pop",
          "Dance/Electronic",
          "Dancehall",
          "Deep house",
          "Disco",
          "Drill music",
          "Dubstep",
          "Electro",
          "Electronic dance music",
          "Electropop",
          "Emo rap",
          "Eurodance",
          "Folk music",
          "Funk",
          "Hip hop music",
          "Hip house",
          "Hip-Hop/Rap",
          "House music",
          "Indie pop",
          "Korea Dance/Electronic",
          "Latin pop",
          "Latin trap",
          "Lo-fi",
          "Metal",
          "Moombahton",
          "New wave",
          "Pop",
          "Pop music",
          "Pop rap",
          "Pop rock",
          "Pop-punk",
          "Power pop",
          "R&B/Soul",
          "Rap rock",
          "Reggae",
          "Reggae en Español",
          "Reggae fusion",
          "Reggaeton",
          "Rhythm and blues",
          "Rock",
          "Soft rock",
          "Soul music",
          "Synth-pop",
          "Trap music",
          "Tropical house"
         ],
         "labels": [
          "2013",
          "2014",
          "2015",
          "2016",
          "2018",
          "2019",
          "2012",
          "2013",
          "2014",
          "2015",
          "2016",
          "2017",
          "2018",
          "2019",
          "2020",
          "2021",
          "2022",
          "2022",
          "2018",
          "2018",
          "2019",
          "2014",
          "2016",
          "2017",
          "2018",
          "2020",
          "2020",
          "2012",
          "2013",
          "2014",
          "2015",
          "2016",
          "2017",
          "2018",
          "2019",
          "2020",
          "2021",
          "2022",
          "2017",
          "2018",
          "2021",
          "2012",
          "2015",
          "2018",
          "2021",
          "2014",
          "2017",
          "2018",
          "2019",
          "2020",
          "2021",
          "2016",
          "2014",
          "2013",
          "2014",
          "2015",
          "2020",
          "2020",
          "2012",
          "2019",
          "2021",
          "2012",
          "2013",
          "2014",
          "2015",
          "2016",
          "2018",
          "2012",
          "2015",
          "2017",
          "2017",
          "2018",
          "2012",
          "2015",
          "2017",
          "2022",
          "2017",
          "2018",
          "2019",
          "2020",
          "2021",
          "2022",
          "2014",
          "2014",
          "2016",
          "2020",
          "2021",
          "2022",
          "2015",
          "2022",
          "2018",
          "2013",
          "2022",
          "2019",
          "2022",
          "2018",
          "2017",
          "2018",
          "2016",
          "2018",
          "2016",
          "2022",
          "2012",
          "2013",
          "2016",
          "2018",
          "2022",
          "2013",
          "2014",
          "2015",
          "2016",
          "2017",
          "2018",
          "2019",
          "2020",
          "2022",
          "2016",
          "2018",
          "2012",
          "2013",
          "2014",
          "2015",
          "2017",
          "2018",
          "2020",
          "2021",
          "2022",
          "2021",
          "2013",
          "2012",
          "2013",
          "2014",
          "2015",
          "2016",
          "2017",
          "2018",
          "2019",
          "2020",
          "2021",
          "2022",
          "2012",
          "2022",
          "2018",
          "2019",
          "2020",
          "2017",
          "2022",
          "2016",
          "2018",
          "2019",
          "2021",
          "2013",
          "2016",
          "2019",
          "2014",
          "2014",
          "2015",
          "2016",
          "2017",
          "2015",
          "2016",
          "2017",
          "2018",
          "2016",
          "Alternative rock",
          "Alternative/Indie",
          "Bachata",
          "Ballad",
          "Bounce music",
          "Bubblegum music",
          "Contemporary R&B",
          "Country Trap",
          "Country music",
          "Country pop",
          "Country rap",
          "Dance-pop",
          "Dance/Electronic",
          "Dancehall",
          "Deep house",
          "Disco",
          "Drill music",
          "Dubstep",
          "Electro",
          "Electronic dance music",
          "Electropop",
          "Emo rap",
          "Eurodance",
          "Folk music",
          "Funk",
          "Hip hop music",
          "Hip house",
          "Hip-Hop/Rap",
          "House music",
          "Indie pop",
          "Korea Dance/Electronic",
          "Latin pop",
          "Latin trap",
          "Lo-fi",
          "Metal",
          "Moombahton",
          "New wave",
          "Pop",
          "Pop music",
          "Pop rap",
          "Pop rock",
          "Pop-punk",
          "Power pop",
          "R&B/Soul",
          "Rap rock",
          "Reggae",
          "Reggae en Español",
          "Reggae fusion",
          "Reggaeton",
          "Rhythm and blues",
          "Rock",
          "Soft rock",
          "Soul music",
          "Synth-pop",
          "Trap music",
          "Tropical house"
         ],
         "marker": {
          "coloraxis": "coloraxis",
          "colors": {
           "bdata": "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",
           "dtype": "f8"
          }
         },
         "name": "",
         "parents": [
          "Alternative rock",
          "Alternative rock",
          "Alternative rock",
          "Alternative rock",
          "Alternative rock",
          "Alternative rock",
          "Alternative/Indie",
          "Alternative/Indie",
          "Alternative/Indie",
          "Alternative/Indie",
          "Alternative/Indie",
          "Alternative/Indie",
          "Alternative/Indie",
          "Alternative/Indie",
          "Alternative/Indie",
          "Alternative/Indie",
          "Alternative/Indie",
          "Bachata",
          "Ballad",
          "Bounce music",
          "Bubblegum music",
          "Contemporary R&B",
          "Contemporary R&B",
          "Contemporary R&B",
          "Contemporary R&B",
          "Contemporary R&B",
          "Country Trap",
          "Country music",
          "Country music",
          "Country music",
          "Country music",
          "Country music",
          "Country music",
          "Country music",
          "Country music",
          "Country music",
          "Country music",
          "Country music",
          "Country pop",
          "Country pop",
          "Country rap",
          "Dance-pop",
          "Dance-pop",
          "Dance-pop",
          "Dance-pop",
          "Dance/Electronic",
          "Dance/Electronic",
          "Dance/Electronic",
          "Dance/Electronic",
          "Dance/Electronic",
          "Dance/Electronic",
          "Dancehall",
          "Deep house",
          "Disco",
          "Disco",
          "Disco",
          "Disco",
          "Drill music",
          "Dubstep",
          "Electro",
          "Electro",
          "Electronic dance music",
          "Electronic dance music",
          "Electronic dance music",
          "Electronic dance music",
          "Electronic dance music",
          "Electronic dance music",
          "Electropop",
          "Electropop",
          "Electropop",
          "Emo rap",
          "Emo rap",
          "Eurodance",
          "Folk music",
          "Funk",
          "Funk",
          "Hip hop music",
          "Hip hop music",
          "Hip hop music",
          "Hip hop music",
          "Hip hop music",
          "Hip hop music",
          "Hip house",
          "Hip-Hop/Rap",
          "Hip-Hop/Rap",
          "Hip-Hop/Rap",
          "Hip-Hop/Rap",
          "Hip-Hop/Rap",
          "House music",
          "House music",
          "Indie pop",
          "Korea Dance/Electronic",
          "Korea Dance/Electronic",
          "Latin pop",
          "Latin pop",
          "Latin trap",
          "Lo-fi",
          "Lo-fi",
          "Metal",
          "Metal",
          "Moombahton",
          "New wave",
          "Pop",
          "Pop",
          "Pop",
          "Pop",
          "Pop",
          "Pop music",
          "Pop music",
          "Pop music",
          "Pop music",
          "Pop music",
          "Pop music",
          "Pop music",
          "Pop music",
          "Pop music",
          "Pop rap",
          "Pop rap",
          "Pop rock",
          "Pop rock",
          "Pop rock",
          "Pop rock",
          "Pop rock",
          "Pop rock",
          "Pop rock",
          "Pop rock",
          "Pop rock",
          "Pop-punk",
          "Power pop",
          "R&B/Soul",
          "R&B/Soul",
          "R&B/Soul",
          "R&B/Soul",
          "R&B/Soul",
          "R&B/Soul",
          "R&B/Soul",
          "R&B/Soul",
          "R&B/Soul",
          "R&B/Soul",
          "R&B/Soul",
          "Rap rock",
          "Reggae",
          "Reggae en Español",
          "Reggae fusion",
          "Reggae fusion",
          "Reggaeton",
          "Reggaeton",
          "Rhythm and blues",
          "Rhythm and blues",
          "Rhythm and blues",
          "Rhythm and blues",
          "Rock",
          "Rock",
          "Rock",
          "Soft rock",
          "Soul music",
          "Soul music",
          "Synth-pop",
          "Synth-pop",
          "Trap music",
          "Trap music",
          "Trap music",
          "Trap music",
          "Tropical house",
          "",
          "",
          "",
          "",
          "",
          "",
          "",
          "",
          "",
          "",
          "",
          "",
          "",
          "",
          "",
          "",
          "",
          "",
          "",
          "",
          "",
          "",
          "",
          "",
          "",
          "",
          "",
          "",
          "",
          "",
          "",
          "",
          "",
          "",
          "",
          "",
          "",
          "",
          "",
          "",
          "",
          "",
          "",
          "",
          "",
          "",
          "",
          "",
          "",
          "",
          "",
          "",
          "",
          "",
          "",
          ""
         ],
         "type": "sunburst",
         "values": {
          "bdata": "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",
          "dtype": "f8"
         }
        }
       ],
       "layout": {
        "coloraxis": {
         "colorbar": {
          "title": {
           "text": "Top100Year"
          }
         },
         "colorscale": [
          [
           0,
           "rgb(252,251,253)"
          ],
          [
           0.125,
           "rgb(239,237,245)"
          ],
          [
           0.25,
           "rgb(218,218,235)"
          ],
          [
           0.375,
           "rgb(188,189,220)"
          ],
          [
           0.5,
           "rgb(158,154,200)"
          ],
          [
           0.625,
           "rgb(128,125,186)"
          ],
          [
           0.75,
           "rgb(106,81,163)"
          ],
          [
           0.875,
           "rgb(84,39,143)"
          ],
          [
           1,
           "rgb(63,0,125)"
          ]
         ]
        },
        "legend": {
         "tracegroupgap": 0
        },
        "template": {
         "data": {
          "bar": [
           {
            "error_x": {
             "color": "#2a3f5f"
            },
            "error_y": {
             "color": "#2a3f5f"
            },
            "marker": {
             "line": {
              "color": "#E5ECF6",
              "width": 0.5
             },
             "pattern": {
              "fillmode": "overlay",
              "size": 10,
              "solidity": 0.2
             }
            },
            "type": "bar"
           }
          ],
          "barpolar": [
           {
            "marker": {
             "line": {
              "color": "#E5ECF6",
              "width": 0.5
             },
             "pattern": {
              "fillmode": "overlay",
              "size": 10,
              "solidity": 0.2
             }
            },
            "type": "barpolar"
           }
          ],
          "carpet": [
           {
            "aaxis": {
             "endlinecolor": "#2a3f5f",
             "gridcolor": "white",
             "linecolor": "white",
             "minorgridcolor": "white",
             "startlinecolor": "#2a3f5f"
            },
            "baxis": {
             "endlinecolor": "#2a3f5f",
             "gridcolor": "white",
             "linecolor": "white",
             "minorgridcolor": "white",
             "startlinecolor": "#2a3f5f"
            },
            "type": "carpet"
           }
          ],
          "choropleth": [
           {
            "colorbar": {
             "outlinewidth": 0,
             "ticks": ""
            },
            "type": "choropleth"
           }
          ],
          "contour": [
           {
            "colorbar": {
             "outlinewidth": 0,
             "ticks": ""
            },
            "colorscale": [
             [
              0,
              "#0d0887"
             ],
             [
              0.1111111111111111,
              "#46039f"
             ],
             [
              0.2222222222222222,
              "#7201a8"
             ],
             [
              0.3333333333333333,
              "#9c179e"
             ],
             [
              0.4444444444444444,
              "#bd3786"
             ],
             [
              0.5555555555555556,
              "#d8576b"
             ],
             [
              0.6666666666666666,
              "#ed7953"
             ],
             [
              0.7777777777777778,
              "#fb9f3a"
             ],
             [
              0.8888888888888888,
              "#fdca26"
             ],
             [
              1,
              "#f0f921"
             ]
            ],
            "type": "contour"
           }
          ],
          "contourcarpet": [
           {
            "colorbar": {
             "outlinewidth": 0,
             "ticks": ""
            },
            "type": "contourcarpet"
           }
          ],
          "heatmap": [
           {
            "colorbar": {
             "outlinewidth": 0,
             "ticks": ""
            },
            "colorscale": [
             [
              0,
              "#0d0887"
             ],
             [
              0.1111111111111111,
              "#46039f"
             ],
             [
              0.2222222222222222,
              "#7201a8"
             ],
             [
              0.3333333333333333,
              "#9c179e"
             ],
             [
              0.4444444444444444,
              "#bd3786"
             ],
             [
              0.5555555555555556,
              "#d8576b"
             ],
             [
              0.6666666666666666,
              "#ed7953"
             ],
             [
              0.7777777777777778,
              "#fb9f3a"
             ],
             [
              0.8888888888888888,
              "#fdca26"
             ],
             [
              1,
              "#f0f921"
             ]
            ],
            "type": "heatmap"
           }
          ],
          "histogram": [
           {
            "marker": {
             "pattern": {
              "fillmode": "overlay",
              "size": 10,
              "solidity": 0.2
             }
            },
            "type": "histogram"
           }
          ],
          "histogram2d": [
           {
            "colorbar": {
             "outlinewidth": 0,
             "ticks": ""
            },
            "colorscale": [
             [
              0,
              "#0d0887"
             ],
             [
              0.1111111111111111,
              "#46039f"
             ],
             [
              0.2222222222222222,
              "#7201a8"
             ],
             [
              0.3333333333333333,
              "#9c179e"
             ],
             [
              0.4444444444444444,
              "#bd3786"
             ],
             [
              0.5555555555555556,
              "#d8576b"
             ],
             [
              0.6666666666666666,
              "#ed7953"
             ],
             [
              0.7777777777777778,
              "#fb9f3a"
             ],
             [
              0.8888888888888888,
              "#fdca26"
             ],
             [
              1,
              "#f0f921"
             ]
            ],
            "type": "histogram2d"
           }
          ],
          "histogram2dcontour": [
           {
            "colorbar": {
             "outlinewidth": 0,
             "ticks": ""
            },
            "colorscale": [
             [
              0,
              "#0d0887"
             ],
             [
              0.1111111111111111,
              "#46039f"
             ],
             [
              0.2222222222222222,
              "#7201a8"
             ],
             [
              0.3333333333333333,
              "#9c179e"
             ],
             [
              0.4444444444444444,
              "#bd3786"
             ],
             [
              0.5555555555555556,
              "#d8576b"
             ],
             [
              0.6666666666666666,
              "#ed7953"
             ],
             [
              0.7777777777777778,
              "#fb9f3a"
             ],
             [
              0.8888888888888888,
              "#fdca26"
             ],
             [
              1,
              "#f0f921"
             ]
            ],
            "type": "histogram2dcontour"
           }
          ],
          "mesh3d": [
           {
            "colorbar": {
             "outlinewidth": 0,
             "ticks": ""
            },
            "type": "mesh3d"
           }
          ],
          "parcoords": [
           {
            "line": {
             "colorbar": {
              "outlinewidth": 0,
              "ticks": ""
             }
            },
            "type": "parcoords"
           }
          ],
          "pie": [
           {
            "automargin": true,
            "type": "pie"
           }
          ],
          "scatter": [
           {
            "fillpattern": {
             "fillmode": "overlay",
             "size": 10,
             "solidity": 0.2
            },
            "type": "scatter"
           }
          ],
          "scatter3d": [
           {
            "line": {
             "colorbar": {
              "outlinewidth": 0,
              "ticks": ""
             }
            },
            "marker": {
             "colorbar": {
              "outlinewidth": 0,
              "ticks": ""
             }
            },
            "type": "scatter3d"
           }
          ],
          "scattercarpet": [
           {
            "marker": {
             "colorbar": {
              "outlinewidth": 0,
              "ticks": ""
             }
            },
            "type": "scattercarpet"
           }
          ],
          "scattergeo": [
           {
            "marker": {
             "colorbar": {
              "outlinewidth": 0,
              "ticks": ""
             }
            },
            "type": "scattergeo"
           }
          ],
          "scattergl": [
           {
            "marker": {
             "colorbar": {
              "outlinewidth": 0,
              "ticks": ""
             }
            },
            "type": "scattergl"
           }
          ],
          "scattermap": [
           {
            "marker": {
             "colorbar": {
              "outlinewidth": 0,
              "ticks": ""
             }
            },
            "type": "scattermap"
           }
          ],
          "scattermapbox": [
           {
            "marker": {
             "colorbar": {
              "outlinewidth": 0,
              "ticks": ""
             }
            },
            "type": "scattermapbox"
           }
          ],
          "scatterpolar": [
           {
            "marker": {
             "colorbar": {
              "outlinewidth": 0,
              "ticks": ""
             }
            },
            "type": "scatterpolar"
           }
          ],
          "scatterpolargl": [
           {
            "marker": {
             "colorbar": {
              "outlinewidth": 0,
              "ticks": ""
             }
            },
            "type": "scatterpolargl"
           }
          ],
          "scatterternary": [
           {
            "marker": {
             "colorbar": {
              "outlinewidth": 0,
              "ticks": ""
             }
            },
            "type": "scatterternary"
           }
          ],
          "surface": [
           {
            "colorbar": {
             "outlinewidth": 0,
             "ticks": ""
            },
            "colorscale": [
             [
              0,
              "#0d0887"
             ],
             [
              0.1111111111111111,
              "#46039f"
             ],
             [
              0.2222222222222222,
              "#7201a8"
             ],
             [
              0.3333333333333333,
              "#9c179e"
             ],
             [
              0.4444444444444444,
              "#bd3786"
             ],
             [
              0.5555555555555556,
              "#d8576b"
             ],
             [
              0.6666666666666666,
              "#ed7953"
             ],
             [
              0.7777777777777778,
              "#fb9f3a"
             ],
             [
              0.8888888888888888,
              "#fdca26"
             ],
             [
              1,
              "#f0f921"
             ]
            ],
            "type": "surface"
           }
          ],
          "table": [
           {
            "cells": {
             "fill": {
              "color": "#EBF0F8"
             },
             "line": {
              "color": "white"
             }
            },
            "header": {
             "fill": {
              "color": "#C8D4E3"
             },
             "line": {
              "color": "white"
             }
            },
            "type": "table"
           }
          ]
         },
         "layout": {
          "annotationdefaults": {
           "arrowcolor": "#2a3f5f",
           "arrowhead": 0,
           "arrowwidth": 1
          },
          "autotypenumbers": "strict",
          "coloraxis": {
           "colorbar": {
            "outlinewidth": 0,
            "ticks": ""
           }
          },
          "colorscale": {
           "diverging": [
            [
             0,
             "#8e0152"
            ],
            [
             0.1,
             "#c51b7d"
            ],
            [
             0.2,
             "#de77ae"
            ],
            [
             0.3,
             "#f1b6da"
            ],
            [
             0.4,
             "#fde0ef"
            ],
            [
             0.5,
             "#f7f7f7"
            ],
            [
             0.6,
             "#e6f5d0"
            ],
            [
             0.7,
             "#b8e186"
            ],
            [
             0.8,
             "#7fbc41"
            ],
            [
             0.9,
             "#4d9221"
            ],
            [
             1,
             "#276419"
            ]
           ],
           "sequential": [
            [
             0,
             "#0d0887"
            ],
            [
             0.1111111111111111,
             "#46039f"
            ],
            [
             0.2222222222222222,
             "#7201a8"
            ],
            [
             0.3333333333333333,
             "#9c179e"
            ],
            [
             0.4444444444444444,
             "#bd3786"
            ],
            [
             0.5555555555555556,
             "#d8576b"
            ],
            [
             0.6666666666666666,
             "#ed7953"
            ],
            [
             0.7777777777777778,
             "#fb9f3a"
            ],
            [
             0.8888888888888888,
             "#fdca26"
            ],
            [
             1,
             "#f0f921"
            ]
           ],
           "sequentialminus": [
            [
             0,
             "#0d0887"
            ],
            [
             0.1111111111111111,
             "#46039f"
            ],
            [
             0.2222222222222222,
             "#7201a8"
            ],
            [
             0.3333333333333333,
             "#9c179e"
            ],
            [
             0.4444444444444444,
             "#bd3786"
            ],
            [
             0.5555555555555556,
             "#d8576b"
            ],
            [
             0.6666666666666666,
             "#ed7953"
            ],
            [
             0.7777777777777778,
             "#fb9f3a"
            ],
            [
             0.8888888888888888,
             "#fdca26"
            ],
            [
             1,
             "#f0f921"
            ]
           ]
          },
          "colorway": [
           "#636efa",
           "#EF553B",
           "#00cc96",
           "#ab63fa",
           "#FFA15A",
           "#19d3f3",
           "#FF6692",
           "#B6E880",
           "#FF97FF",
           "#FECB52"
          ],
          "font": {
           "color": "#2a3f5f"
          },
          "geo": {
           "bgcolor": "white",
           "lakecolor": "white",
           "landcolor": "#E5ECF6",
           "showlakes": true,
           "showland": true,
           "subunitcolor": "white"
          },
          "hoverlabel": {
           "align": "left"
          },
          "hovermode": "closest",
          "mapbox": {
           "style": "light"
          },
          "paper_bgcolor": "white",
          "plot_bgcolor": "#E5ECF6",
          "polar": {
           "angularaxis": {
            "gridcolor": "white",
            "linecolor": "white",
            "ticks": ""
           },
           "bgcolor": "#E5ECF6",
           "radialaxis": {
            "gridcolor": "white",
            "linecolor": "white",
            "ticks": ""
           }
          },
          "scene": {
           "xaxis": {
            "backgroundcolor": "#E5ECF6",
            "gridcolor": "white",
            "gridwidth": 2,
            "linecolor": "white",
            "showbackground": true,
            "ticks": "",
            "zerolinecolor": "white"
           },
           "yaxis": {
            "backgroundcolor": "#E5ECF6",
            "gridcolor": "white",
            "gridwidth": 2,
            "linecolor": "white",
            "showbackground": true,
            "ticks": "",
            "zerolinecolor": "white"
           },
           "zaxis": {
            "backgroundcolor": "#E5ECF6",
            "gridcolor": "white",
            "gridwidth": 2,
            "linecolor": "white",
            "showbackground": true,
            "ticks": "",
            "zerolinecolor": "white"
           }
          },
          "shapedefaults": {
           "line": {
            "color": "#2a3f5f"
           }
          },
          "ternary": {
           "aaxis": {
            "gridcolor": "white",
            "linecolor": "white",
            "ticks": ""
           },
           "baxis": {
            "gridcolor": "white",
            "linecolor": "white",
            "ticks": ""
           },
           "bgcolor": "#E5ECF6",
           "caxis": {
            "gridcolor": "white",
            "linecolor": "white",
            "ticks": ""
           }
          },
          "title": {
           "x": 0.05
          },
          "xaxis": {
           "automargin": true,
           "gridcolor": "white",
           "linecolor": "white",
           "ticks": "",
           "title": {
            "standoff": 15
           },
           "zerolinecolor": "white",
           "zerolinewidth": 2
          },
          "yaxis": {
           "automargin": true,
           "gridcolor": "white",
           "linecolor": "white",
           "ticks": "",
           "title": {
            "standoff": 15
           },
           "zerolinecolor": "white",
           "zerolinewidth": 2
          }
         }
        },
        "title": {
         "text": "Proportion of Popular Tracks by Genre and Release Year"
        }
       }
      }
     },
     "metadata": {},
     "output_type": "display_data"
    }
   ],
   "source": [
    "# Prepare data for alluvial diagram (sankey plot)\n",
    "genre_year_df = df.groupby([\"PrimaryGenre\", \"Top100Year\"]).size().reset_index(name=\"Count\")\n",
    "\n",
    "# Create an alluvial diagram\n",
    "fig = px.sunburst(genre_year_df, path=[\"PrimaryGenre\", \"Top100Year\"], values=\"Count\", \n",
    "                  title=\"Proportion of Popular Tracks by Genre and Release Year\",\n",
    "                  color=\"Top100Year\", color_continuous_scale=\"Purples\")\n",
    "\n",
    "fig.show()\n"
   ]
  },
  {
   "cell_type": "code",
   "execution_count": 20,
   "metadata": {},
   "outputs": [
    {
     "name": "stderr",
     "output_type": "stream",
     "text": [
      "C:\\Users\\HOME\\AppData\\Local\\Temp\\ipykernel_15048\\3876712272.py:9: UserWarning:\n",
      "\n",
      "No artists with labels found to put in legend.  Note that artists whose label start with an underscore are ignored when legend() is called with no argument.\n",
      "\n"
     ]
    },
    {
     "data": {
      "image/png": "[encoded data removed]",
      "text/plain": [
       "<Figure size 1200x600 with 1 Axes>"
      ]
     },
     "metadata": {},
     "output_type": "display_data"
    }
   ],
   "source": [
    "# Re-attempting the alluvial diagram using seaborn (alternative to Plotly)\n",
    "plt.figure(figsize=(12, 6))\n",
    "sns.histplot(data=df, x=\"Top100Year\", hue=\"PrimaryGenre\", multiple=\"stack\", palette=\"Purples\", bins=11)\n",
    "\n",
    "plt.title(\"Proportion of Popular Tracks by Genre and Release Year\")\n",
    "plt.xlabel(\"Year\")\n",
    "plt.ylabel(\"Count of Songs\")\n",
    "plt.xticks(rotation=45)\n",
    "plt.legend(title=\"Genre\", bbox_to_anchor=(1.05, 1), loc='upper left')\n",
    "plt.show()"
   ]
  },
  {
   "cell_type": "code",
   "execution_count": 21,
   "metadata": {},
   "outputs": [
    {
     "data": {
      "application/vnd.plotly.v1+json": {
       "config": {
        "plotlyServerURL": "https://plot.ly"
       },
       "data": [
        {
         "link": {
          "source": [
           0,
           0,
           0,
           0,
           0,
           0,
           1,
           1,
           1,
           1,
           1,
           1,
           1,
           1,
           1,
           1,
           1,
           2,
           3,
           4,
           5,
           6,
           6,
           6,
           6,
           6,
           7,
           8,
           8,
           8,
           8,
           8,
           8,
           8,
           8,
           8,
           8,
           8,
           9,
           9,
           10,
           11,
           11,
           11,
           11,
           12,
           12,
           12,
           12,
           12,
           12,
           13,
           14,
           15,
           15,
           15,
           15,
           16,
           17,
           18,
           18,
           19,
           19,
           19,
           19,
           19,
           19,
           20,
           20,
           20,
           21,
           21,
           22,
           23,
           24,
           24,
           25,
           25,
           25,
           25,
           25,
           25,
           26,
           27,
           27,
           27,
           27,
           27,
           28,
           28,
           29,
           30,
           30,
           31,
           31,
           32,
           33,
           33,
           34,
           34,
           35,
           36,
           37,
           37,
           37,
           37,
           37,
           38,
           38,
           38,
           38,
           38,
           38,
           38,
           38,
           38,
           39,
           39,
           40,
           40,
           40,
           40,
           40,
           40,
           40,
           40,
           40,
           41,
           42,
           43,
           43,
           43,
           43,
           43,
           43,
           43,
           43,
           43,
           43,
           43,
           44,
           45,
           46,
           47,
           47,
           48,
           48,
           49,
           49,
           49,
           49,
           50,
           50,
           50,
           51,
           52,
           52,
           53,
           53,
           54,
           54,
           54,
           54,
           55
          ],
          "target": [
           56,
           57,
           58,
           59,
           60,
           61,
           62,
           56,
           57,
           58,
           59,
           63,
           60,
           61,
           64,
           65,
           66,
           66,
           60,
           60,
           61,
           57,
           59,
           63,
           60,
           64,
           64,
           62,
           56,
           57,
           58,
           59,
           63,
           60,
           61,
           64,
           65,
           66,
           63,
           60,
           65,
           62,
           58,
           60,
           65,
           57,
           63,
           60,
           61,
           64,
           65,
           59,
           57,
           56,
           57,
           58,
           64,
           64,
           62,
           61,
           65,
           62,
           56,
           57,
           58,
           59,
           60,
           62,
           58,
           63,
           63,
           60,
           62,
           58,
           63,
           66,
           63,
           60,
           61,
           64,
           65,
           66,
           57,
           57,
           59,
           64,
           65,
           66,
           58,
           66,
           60,
           56,
           66,
           61,
           66,
           60,
           63,
           60,
           59,
           60,
           59,
           66,
           62,
           56,
           59,
           60,
           66,
           56,
           57,
           58,
           59,
           63,
           60,
           61,
           64,
           66,
           59,
           60,
           62,
           56,
           57,
           58,
           63,
           60,
           64,
           65,
           66,
           65,
           56,
           62,
           56,
           57,
           58,
           59,
           63,
           60,
           61,
           64,
           65,
           66,
           62,
           66,
           60,
           61,
           64,
           63,
           66,
           59,
           60,
           61,
           65,
           56,
           59,
           61,
           57,
           57,
           58,
           59,
           63,
           58,
           59,
           63,
           60,
           59
          ],
          "value": [
           5,
           2,
           1,
           1,
           6,
           2,
           15,
           4,
           12,
           18,
           7,
           6,
           8,
           26,
           12,
           23,
           11,
           26,
           1,
           2,
           1,
           1,
           2,
           6,
           4,
           1,
           1,
           25,
           41,
           40,
           30,
           13,
           16,
           7,
           16,
           25,
           18,
           6,
           4,
           3,
           1,
           1,
           3,
           4,
           1,
           1,
           11,
           1,
           4,
           8,
           2,
           1,
           1,
           1,
           1,
           1,
           3,
           1,
           1,
           2,
           1,
           2,
           7,
           6,
           4,
           5,
           4,
           1,
           6,
           5,
           1,
           3,
           5,
           1,
           4,
           2,
           1,
           3,
           12,
           13,
           2,
           1,
           3,
           2,
           2,
           6,
           8,
           2,
           1,
           2,
           1,
           1,
           1,
           1,
           1,
           1,
           1,
           3,
           1,
           2,
           1,
           1,
           1,
           2,
           1,
           4,
           6,
           3,
           1,
           4,
           7,
           4,
           6,
           3,
           5,
           8,
           1,
           2,
           4,
           2,
           5,
           3,
           2,
           4,
           1,
           1,
           5,
           7,
           1,
           40,
           32,
           22,
           18,
           49,
           33,
           19,
           24,
           23,
           27,
           17,
           4,
           2,
           1,
           4,
           1,
           3,
           9,
           2,
           1,
           2,
           9,
           1,
           1,
           3,
           1,
           2,
           3,
           1,
           1,
           7,
           2,
           2,
           10,
           3
          ]
         },
         "node": {
          "label": [
           "Alternative rock",
           "Alternative/Indie",
           "Bachata",
           "Ballad",
           "Bounce music",
           "Bubblegum music",
           "Contemporary R&B",
           "Country Trap",
           "Country music",
           "Country pop",
           "Country rap",
           "Dance-pop",
           "Dance/Electronic",
           "Dancehall",
           "Deep house",
           "Disco",
           "Drill music",
           "Dubstep",
           "Electro",
           "Electronic dance music",
           "Electropop",
           "Emo rap",
           "Eurodance",
           "Folk music",
           "Funk",
           "Hip hop music",
           "Hip house",
           "Hip-Hop/Rap",
           "House music",
           "Indie pop",
           "Korea Dance/Electronic",
           "Latin pop",
           "Latin trap",
           "Lo-fi",
           "Metal",
           "Moombahton",
           "New wave",
           "Pop",
           "Pop music",
           "Pop rap",
           "Pop rock",
           "Pop-punk",
           "Power pop",
           "R&B/Soul",
           "Rap rock",
           "Reggae",
           "Reggae en Español",
           "Reggae fusion",
           "Reggaeton",
           "Rhythm and blues",
           "Rock",
           "Soft rock",
           "Soul music",
           "Synth-pop",
           "Trap music",
           "Tropical house",
           "2013",
           "2014",
           "2015",
           "2016",
           "2018",
           "2019",
           "2012",
           "2017",
           "2020",
           "2021",
           "2022"
          ],
          "line": {
           "color": "black",
           "width": 0.5
          },
          "pad": 15,
          "thickness": 20
         },
         "type": "sankey"
        }
       ],
       "layout": {
        "font": {
         "size": 10
        },
        "template": {
         "data": {
          "bar": [
           {
            "error_x": {
             "color": "#2a3f5f"
            },
            "error_y": {
             "color": "#2a3f5f"
            },
            "marker": {
             "line": {
              "color": "#E5ECF6",
              "width": 0.5
             },
             "pattern": {
              "fillmode": "overlay",
              "size": 10,
              "solidity": 0.2
             }
            },
            "type": "bar"
           }
          ],
          "barpolar": [
           {
            "marker": {
             "line": {
              "color": "#E5ECF6",
              "width": 0.5
             },
             "pattern": {
              "fillmode": "overlay",
              "size": 10,
              "solidity": 0.2
             }
            },
            "type": "barpolar"
           }
          ],
          "carpet": [
           {
            "aaxis": {
             "endlinecolor": "#2a3f5f",
             "gridcolor": "white",
             "linecolor": "white",
             "minorgridcolor": "white",
             "startlinecolor": "#2a3f5f"
            },
            "baxis": {
             "endlinecolor": "#2a3f5f",
             "gridcolor": "white",
             "linecolor": "white",
             "minorgridcolor": "white",
             "startlinecolor": "#2a3f5f"
            },
            "type": "carpet"
           }
          ],
          "choropleth": [
           {
            "colorbar": {
             "outlinewidth": 0,
             "ticks": ""
            },
            "type": "choropleth"
           }
          ],
          "contour": [
           {
            "colorbar": {
             "outlinewidth": 0,
             "ticks": ""
            },
            "colorscale": [
             [
              0,
              "#0d0887"
             ],
             [
              0.1111111111111111,
              "#46039f"
             ],
             [
              0.2222222222222222,
              "#7201a8"
             ],
             [
              0.3333333333333333,
              "#9c179e"
             ],
             [
              0.4444444444444444,
              "#bd3786"
             ],
             [
              0.5555555555555556,
              "#d8576b"
             ],
             [
              0.6666666666666666,
              "#ed7953"
             ],
             [
              0.7777777777777778,
              "#fb9f3a"
             ],
             [
              0.8888888888888888,
              "#fdca26"
             ],
             [
              1,
              "#f0f921"
             ]
            ],
            "type": "contour"
           }
          ],
          "contourcarpet": [
           {
            "colorbar": {
             "outlinewidth": 0,
             "ticks": ""
            },
            "type": "contourcarpet"
           }
          ],
          "heatmap": [
           {
            "colorbar": {
             "outlinewidth": 0,
             "ticks": ""
            },
            "colorscale": [
             [
              0,
              "#0d0887"
             ],
             [
              0.1111111111111111,
              "#46039f"
             ],
             [
              0.2222222222222222,
              "#7201a8"
             ],
             [
              0.3333333333333333,
              "#9c179e"
             ],
             [
              0.4444444444444444,
              "#bd3786"
             ],
             [
              0.5555555555555556,
              "#d8576b"
             ],
             [
              0.6666666666666666,
              "#ed7953"
             ],
             [
              0.7777777777777778,
              "#fb9f3a"
             ],
             [
              0.8888888888888888,
              "#fdca26"
             ],
             [
              1,
              "#f0f921"
             ]
            ],
            "type": "heatmap"
           }
          ],
          "histogram": [
           {
            "marker": {
             "pattern": {
              "fillmode": "overlay",
              "size": 10,
              "solidity": 0.2
             }
            },
            "type": "histogram"
           }
          ],
          "histogram2d": [
           {
            "colorbar": {
             "outlinewidth": 0,
             "ticks": ""
            },
            "colorscale": [
             [
              0,
              "#0d0887"
             ],
             [
              0.1111111111111111,
              "#46039f"
             ],
             [
              0.2222222222222222,
              "#7201a8"
             ],
             [
              0.3333333333333333,
              "#9c179e"
             ],
             [
              0.4444444444444444,
              "#bd3786"
             ],
             [
              0.5555555555555556,
              "#d8576b"
             ],
             [
              0.6666666666666666,
              "#ed7953"
             ],
             [
              0.7777777777777778,
              "#fb9f3a"
             ],
             [
              0.8888888888888888,
              "#fdca26"
             ],
             [
              1,
              "#f0f921"
             ]
            ],
            "type": "histogram2d"
           }
          ],
          "histogram2dcontour": [
           {
            "colorbar": {
             "outlinewidth": 0,
             "ticks": ""
            },
            "colorscale": [
             [
              0,
              "#0d0887"
             ],
             [
              0.1111111111111111,
              "#46039f"
             ],
             [
              0.2222222222222222,
              "#7201a8"
             ],
             [
              0.3333333333333333,
              "#9c179e"
             ],
             [
              0.4444444444444444,
              "#bd3786"
             ],
             [
              0.5555555555555556,
              "#d8576b"
             ],
             [
              0.6666666666666666,
              "#ed7953"
             ],
             [
              0.7777777777777778,
              "#fb9f3a"
             ],
             [
              0.8888888888888888,
              "#fdca26"
             ],
             [
              1,
              "#f0f921"
             ]
            ],
            "type": "histogram2dcontour"
           }
          ],
          "mesh3d": [
           {
            "colorbar": {
             "outlinewidth": 0,
             "ticks": ""
            },
            "type": "mesh3d"
           }
          ],
          "parcoords": [
           {
            "line": {
             "colorbar": {
              "outlinewidth": 0,
              "ticks": ""
             }
            },
            "type": "parcoords"
           }
          ],
          "pie": [
           {
            "automargin": true,
            "type": "pie"
           }
          ],
          "scatter": [
           {
            "fillpattern": {
             "fillmode": "overlay",
             "size": 10,
             "solidity": 0.2
            },
            "type": "scatter"
           }
          ],
          "scatter3d": [
           {
            "line": {
             "colorbar": {
              "outlinewidth": 0,
              "ticks": ""
             }
            },
            "marker": {
             "colorbar": {
              "outlinewidth": 0,
              "ticks": ""
             }
            },
            "type": "scatter3d"
           }
          ],
          "scattercarpet": [
           {
            "marker": {
             "colorbar": {
              "outlinewidth": 0,
              "ticks": ""
             }
            },
            "type": "scattercarpet"
           }
          ],
          "scattergeo": [
           {
            "marker": {
             "colorbar": {
              "outlinewidth": 0,
              "ticks": ""
             }
            },
            "type": "scattergeo"
           }
          ],
          "scattergl": [
           {
            "marker": {
             "colorbar": {
              "outlinewidth": 0,
              "ticks": ""
             }
            },
            "type": "scattergl"
           }
          ],
          "scattermap": [
           {
            "marker": {
             "colorbar": {
              "outlinewidth": 0,
              "ticks": ""
             }
            },
            "type": "scattermap"
           }
          ],
          "scattermapbox": [
           {
            "marker": {
             "colorbar": {
              "outlinewidth": 0,
              "ticks": ""
             }
            },
            "type": "scattermapbox"
           }
          ],
          "scatterpolar": [
           {
            "marker": {
             "colorbar": {
              "outlinewidth": 0,
              "ticks": ""
             }
            },
            "type": "scatterpolar"
           }
          ],
          "scatterpolargl": [
           {
            "marker": {
             "colorbar": {
              "outlinewidth": 0,
              "ticks": ""
             }
            },
            "type": "scatterpolargl"
           }
          ],
          "scatterternary": [
           {
            "marker": {
             "colorbar": {
              "outlinewidth": 0,
              "ticks": ""
             }
            },
            "type": "scatterternary"
           }
          ],
          "surface": [
           {
            "colorbar": {
             "outlinewidth": 0,
             "ticks": ""
            },
            "colorscale": [
             [
              0,
              "#0d0887"
             ],
             [
              0.1111111111111111,
              "#46039f"
             ],
             [
              0.2222222222222222,
              "#7201a8"
             ],
             [
              0.3333333333333333,
              "#9c179e"
             ],
             [
              0.4444444444444444,
              "#bd3786"
             ],
             [
              0.5555555555555556,
              "#d8576b"
             ],
             [
              0.6666666666666666,
              "#ed7953"
             ],
             [
              0.7777777777777778,
              "#fb9f3a"
             ],
             [
              0.8888888888888888,
              "#fdca26"
             ],
             [
              1,
              "#f0f921"
             ]
            ],
            "type": "surface"
           }
          ],
          "table": [
           {
            "cells": {
             "fill": {
              "color": "#EBF0F8"
             },
             "line": {
              "color": "white"
             }
            },
            "header": {
             "fill": {
              "color": "#C8D4E3"
             },
             "line": {
              "color": "white"
             }
            },
            "type": "table"
           }
          ]
         },
         "layout": {
          "annotationdefaults": {
           "arrowcolor": "#2a3f5f",
           "arrowhead": 0,
           "arrowwidth": 1
          },
          "autotypenumbers": "strict",
          "coloraxis": {
           "colorbar": {
            "outlinewidth": 0,
            "ticks": ""
           }
          },
          "colorscale": {
           "diverging": [
            [
             0,
             "#8e0152"
            ],
            [
             0.1,
             "#c51b7d"
            ],
            [
             0.2,
             "#de77ae"
            ],
            [
             0.3,
             "#f1b6da"
            ],
            [
             0.4,
             "#fde0ef"
            ],
            [
             0.5,
             "#f7f7f7"
            ],
            [
             0.6,
             "#e6f5d0"
            ],
            [
             0.7,
             "#b8e186"
            ],
            [
             0.8,
             "#7fbc41"
            ],
            [
             0.9,
             "#4d9221"
            ],
            [
             1,
             "#276419"
            ]
           ],
           "sequential": [
            [
             0,
             "#0d0887"
            ],
            [
             0.1111111111111111,
             "#46039f"
            ],
            [
             0.2222222222222222,
             "#7201a8"
            ],
            [
             0.3333333333333333,
             "#9c179e"
            ],
            [
             0.4444444444444444,
             "#bd3786"
            ],
            [
             0.5555555555555556,
             "#d8576b"
            ],
            [
             0.6666666666666666,
             "#ed7953"
            ],
            [
             0.7777777777777778,
             "#fb9f3a"
            ],
            [
             0.8888888888888888,
             "#fdca26"
            ],
            [
             1,
             "#f0f921"
            ]
           ],
           "sequentialminus": [
            [
             0,
             "#0d0887"
            ],
            [
             0.1111111111111111,
             "#46039f"
            ],
            [
             0.2222222222222222,
             "#7201a8"
            ],
            [
             0.3333333333333333,
             "#9c179e"
            ],
            [
             0.4444444444444444,
             "#bd3786"
            ],
            [
             0.5555555555555556,
             "#d8576b"
            ],
            [
             0.6666666666666666,
             "#ed7953"
            ],
            [
             0.7777777777777778,
             "#fb9f3a"
            ],
            [
             0.8888888888888888,
             "#fdca26"
            ],
            [
             1,
             "#f0f921"
            ]
           ]
          },
          "colorway": [
           "#636efa",
           "#EF553B",
           "#00cc96",
           "#ab63fa",
           "#FFA15A",
           "#19d3f3",
           "#FF6692",
           "#B6E880",
           "#FF97FF",
           "#FECB52"
          ],
          "font": {
           "color": "#2a3f5f"
          },
          "geo": {
           "bgcolor": "white",
           "lakecolor": "white",
           "landcolor": "#E5ECF6",
           "showlakes": true,
           "showland": true,
           "subunitcolor": "white"
          },
          "hoverlabel": {
           "align": "left"
          },
          "hovermode": "closest",
          "mapbox": {
           "style": "light"
          },
          "paper_bgcolor": "white",
          "plot_bgcolor": "#E5ECF6",
          "polar": {
           "angularaxis": {
            "gridcolor": "white",
            "linecolor": "white",
            "ticks": ""
           },
           "bgcolor": "#E5ECF6",
           "radialaxis": {
            "gridcolor": "white",
            "linecolor": "white",
            "ticks": ""
           }
          },
          "scene": {
           "xaxis": {
            "backgroundcolor": "#E5ECF6",
            "gridcolor": "white",
            "gridwidth": 2,
            "linecolor": "white",
            "showbackground": true,
            "ticks": "",
            "zerolinecolor": "white"
           },
           "yaxis": {
            "backgroundcolor": "#E5ECF6",
            "gridcolor": "white",
            "gridwidth": 2,
            "linecolor": "white",
            "showbackground": true,
            "ticks": "",
            "zerolinecolor": "white"
           },
           "zaxis": {
            "backgroundcolor": "#E5ECF6",
            "gridcolor": "white",
            "gridwidth": 2,
            "linecolor": "white",
            "showbackground": true,
            "ticks": "",
            "zerolinecolor": "white"
           }
          },
          "shapedefaults": {
           "line": {
            "color": "#2a3f5f"
           }
          },
          "ternary": {
           "aaxis": {
            "gridcolor": "white",
            "linecolor": "white",
            "ticks": ""
           },
           "baxis": {
            "gridcolor": "white",
            "linecolor": "white",
            "ticks": ""
           },
           "bgcolor": "#E5ECF6",
           "caxis": {
            "gridcolor": "white",
            "linecolor": "white",
            "ticks": ""
           }
          },
          "title": {
           "x": 0.05
          },
          "xaxis": {
           "automargin": true,
           "gridcolor": "white",
           "linecolor": "white",
           "ticks": "",
           "title": {
            "standoff": 15
           },
           "zerolinecolor": "white",
           "zerolinewidth": 2
          },
          "yaxis": {
           "automargin": true,
           "gridcolor": "white",
           "linecolor": "white",
           "ticks": "",
           "title": {
            "standoff": 15
           },
           "zerolinecolor": "white",
           "zerolinewidth": 2
          }
         }
        },
        "title": {
         "text": "Alluvial Diagram: Popular Tracks by Genre and Year"
        }
       }
      }
     },
     "metadata": {},
     "output_type": "display_data"
    }
   ],
   "source": [
    "# Extract the primary genre (first listed genre in the Genre column)\n",
    "df[\"PrimaryGenre\"] = df[\"Genre\"].apply(lambda x: x.split(\",\")[0] if pd.notna(x) else \"Unknown\")\n",
    "\n",
    "# Group data by PrimaryGenre and Top100Year\n",
    "genre_year_counts = df.groupby([\"PrimaryGenre\", \"Top100Year\"]).size().reset_index(name=\"Count\")\n",
    "\n",
    "# Import plotly for the alluvial diagram\n",
    "import plotly.graph_objects as go\n",
    "\n",
    "# Create unique labels (genres + years)\n",
    "genres = list(genre_year_counts[\"PrimaryGenre\"].unique())\n",
    "years = list(genre_year_counts[\"Top100Year\"].unique())\n",
    "all_labels = genres + [str(year) for year in years]\n",
    "\n",
    "# Mapping labels to indices for the Sankey diagram\n",
    "genre_indices = {genre: i for i, genre in enumerate(genres)}\n",
    "year_indices = {str(year): i + len(genres) for i, year in enumerate(years)}\n",
    "\n",
    "# Creating source-target links for the Sankey diagram\n",
    "source = []\n",
    "target = []\n",
    "values = []\n",
    "\n",
    "for _, row in genre_year_counts.iterrows():\n",
    "    source.append(genre_indices[row[\"PrimaryGenre\"]])\n",
    "    target.append(year_indices[str(row[\"Top100Year\"])])\n",
    "    values.append(row[\"Count\"])\n",
    "\n",
    "# Generate the alluvial diagram (Sankey plot)\n",
    "fig = go.Figure(go.Sankey(\n",
    "    node=dict(\n",
    "        pad=15,\n",
    "        thickness=20,\n",
    "        line=dict(color=\"black\", width=0.5),\n",
    "        label=all_labels,\n",
    "    ),\n",
    "    link=dict(\n",
    "        source=source,\n",
    "        target=target,\n",
    "        value=values,\n",
    "    )\n",
    "))\n",
    "\n",
    "fig.update_layout(title_text=\"Alluvial Diagram: Popular Tracks by Genre and Year\", font_size=10)\n",
    "fig.show()\n"
   ]
  },
  {
   "cell_type": "code",
   "execution_count": 22,
   "metadata": {},
   "outputs": [
    {
     "data": {
      "image/png": "[encoded data removed]",
      "text/plain": [
       "<Figure size 1200x600 with 1 Axes>"
      ]
     },
     "metadata": {},
     "output_type": "display_data"
    }
   ],
   "source": [
    "df_filtered = df.dropna(subset=[\"ReleaseYear\", \"Top100Year\", \"Artist\"])\n",
    "\n",
    "# Convert ReleaseYear and Top100Year to numeric types\n",
    "df_filtered[\"ReleaseYear\"] = pd.to_numeric(df_filtered[\"ReleaseYear\"], errors='coerce')\n",
    "df_filtered[\"Top100Year\"] = pd.to_numeric(df_filtered[\"Top100Year\"], errors='coerce')\n",
    "\n",
    "# Sample a subset for better clarity in visualization\n",
    "df_sampled = df_filtered.sample(n=200, random_state=42)  # Adjust number for clarity\n",
    "\n",
    "# Scatter plot with Artist as color\n",
    "plt.figure(figsize=(12, 6))\n",
    "scatter = sns.scatterplot(\n",
    "    x=df_sampled[\"ReleaseYear\"],\n",
    "    y=df_sampled[\"Top100Year\"],\n",
    "    hue=df_sampled[\"Artist\"],\n",
    "    palette=\"tab10\",\n",
    "    alpha=0.7,\n",
    "    legend=False  # Too many artists; disabling legend for clarity\n",
    ")\n",
    "\n",
    "# Set labels and title\n",
    "plt.xlabel(\"Release Year\")\n",
    "plt.ylabel(\"Top 100 Year (Popularity Indicator)\")\n",
    "plt.title(\"Scatterplot of Song Release Year vs. Top 100 Year (Color by Artist)\")\n",
    "\n",
    "# Show the plot\n",
    "plt.show()"
   ]
  },
  {
   "cell_type": "code",
   "execution_count": 23,
   "metadata": {},
   "outputs": [],
   "source": [
    "\n",
    "from wordcloud import WordCloud\n"
   ]
  },
  {
   "cell_type": "code",
   "execution_count": 24,
   "metadata": {},
   "outputs": [
    {
     "data": {
      "image/png": "[encoded data removed]",
      "text/plain": [
       "<Figure size 1000x500 with 1 Axes>"
      ]
     },
     "metadata": {},
     "output_type": "display_data"
    }
   ],
   "source": [
    "lyrics_text = \" \".join(str(lyric) for lyric in df[\"Lyrics\"].dropna())\n",
    "\n",
    "# Generate the word cloud\n",
    "wordcloud = WordCloud(width=800, height=400, background_color=\"white\", colormap=\"tab10\",\n",
    "                      max_words=100).generate(lyrics_text)\n",
    "\n",
    "# Display the word cloud\n",
    "plt.figure(figsize=(10, 5))\n",
    "plt.imshow(wordcloud, interpolation=\"bilinear\")\n",
    "plt.axis(\"off\")\n",
    "plt.title(\"Most Frequent Words in Song Lyrics\")\n",
    "plt.show()"
   ]
  },
  {
   "cell_type": "code",
   "execution_count": 25,
   "metadata": {},
   "outputs": [
    {
     "data": {
      "image/png": "[encoded data removed]",
      "text/plain": [
       "<Figure size 1000x500 with 1 Axes>"
      ]
     },
     "metadata": {},
     "output_type": "display_data"
    }
   ],
   "source": [
    "# Calculate genre diversity (number of unique genres per year)\n",
    "genre_diversity = df.groupby(\"Top100Year\")[\"PrimaryGenre\"].nunique()\n",
    "\n",
    "# Plot genre diversity trend\n",
    "plt.figure(figsize=(10, 5))\n",
    "plt.plot(genre_diversity.index, genre_diversity.values, marker=\"o\", linestyle=\"-\", color=\"b\")\n",
    "plt.xlabel(\"Year\")\n",
    "plt.ylabel(\"Number of Unique Genres\")\n",
    "plt.title(\"Diversity of Music Genres (2012-2022)\")\n",
    "plt.grid(True)\n",
    "plt.show()\n"
   ]
  },
  {
   "cell_type": "code",
   "execution_count": 28,
   "metadata": {},
   "outputs": [
    {
     "name": "stderr",
     "output_type": "stream",
     "text": [
      "C:\\Users\\HOME\\AppData\\Local\\Temp\\ipykernel_15048\\4212701545.py:12: FutureWarning:\n",
      "\n",
      "\n",
      "\n",
      "Passing `palette` without assigning `hue` is deprecated and will be removed in v0.14.0. Assign the `x` variable to `hue` and set `legend=False` for the same effect.\n",
      "\n",
      "\n"
     ]
    },
    {
     "data": {
      "image/png": "[encoded data removed]",
      "text/plain": [
       "<Figure size 1000x500 with 1 Axes>"
      ]
     },
     "metadata": {},
     "output_type": "display_data"
    }
   ],
   "source": [
    "# Count occurrences of each genre per year\n",
    "genre_counts = df.groupby(\"Top100Year\")[\"PrimaryGenre\"].value_counts().unstack()\n",
    "\n",
    "# Identify the dominant genre for each year\n",
    "dominant_genre = genre_counts.idxmax(axis=1)  # This returns a Series\n",
    "\n",
    "# Count occurrences of each dominant genre across all years\n",
    "dominant_genre_counts = dominant_genre.value_counts()\n",
    "\n",
    "# Plot dominant genre trend\n",
    "plt.figure(figsize=(10, 5))\n",
    "sns.barplot(x=dominant_genre_counts.index, y=dominant_genre_counts.values, palette=\"Purples\")\n",
    "\n",
    "plt.title(\"Most Dominant Genres Over the Years (2012-2022)\")\n",
    "plt.xlabel(\"Genre\")\n",
    "plt.ylabel(\"Number of Years as Dominant Genre\")\n",
    "plt.xticks(rotation=45)\n",
    "plt.show()\n"
   ]
  }
 ],
 "metadata": {
  "kernelspec": {
   "display_name": "Python 3",
   "language": "python",
   "name": "python3"
  },
  "language_info": {
   "codemirror_mode": {
    "name": "ipython",
    "version": 3
   },
   "file_extension": ".py",
   "mimetype": "text/x-python",
   "name": "python",
   "nbconvert_exporter": "python",
   "pygments_lexer": "ipython3",
   "version": "3.13.2"
  }
 },
 "nbformat": 4,
 "nbformat_minor": 2
}
